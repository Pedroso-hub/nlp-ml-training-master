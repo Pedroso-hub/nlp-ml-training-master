{
 "cells": [
  {
   "cell_type": "code",
   "execution_count": 1,
   "id": "assumed-schema",
   "metadata": {},
   "outputs": [],
   "source": [
    "import os\n",
    "import sys\n",
    "import numpy as np\n",
    "from sklearn.model_selection import train_test_split\n",
    "from sklearn import datasets\n",
    "import matplotlib.pyplot as plt\n",
    "\n",
    "from perceptron import Perceptron"
   ]
  },
  {
   "cell_type": "code",
   "execution_count": 2,
   "id": "fixed-enough",
   "metadata": {},
   "outputs": [],
   "source": [
    "def accuracy(y_true, y_pred):\n",
    "    acc = np.sum(y_true == y_pred) / len(y_true)\n",
    "    return acc"
   ]
  },
  {
   "cell_type": "markdown",
   "id": "muslim-congo",
   "metadata": {},
   "source": [
    "### Testing Perceptron\n",
    "- AND\n",
    "- OR\n",
    "- XOR"
   ]
  },
  {
   "cell_type": "code",
   "execution_count": 16,
   "id": "twelve-hormone",
   "metadata": {},
   "outputs": [],
   "source": [
    "# X, y = datasets.make_blobs(n_samples=150, n_features=2, centers=2, cluster_std=1.05, random_state=2)\n",
    "X_train = X_test = np.array([[0,0], [0,1], [1,0], [1,1]])\n",
    "y_train = y_test = np.array([0, 1, 1, 0])\n",
    "# X_train, X_test, y_train, y_test = train_test_split(X, y, test_size=0.2, random_state=2)"
   ]
  },
  {
   "cell_type": "code",
   "execution_count": 17,
   "id": "developed-accident",
   "metadata": {},
   "outputs": [
    {
     "name": "stdout",
     "output_type": "stream",
     "text": [
      "[[0 0]\n",
      " [0 1]\n",
      " [1 0]\n",
      " [1 1]] [0 1 1 0]\n"
     ]
    }
   ],
   "source": [
    "print(X_train, y_train)"
   ]
  },
  {
   "cell_type": "code",
   "execution_count": 18,
   "id": "decent-trial",
   "metadata": {},
   "outputs": [
    {
     "data": {
      "text/plain": [
       "(4, 2)"
      ]
     },
     "execution_count": 18,
     "metadata": {},
     "output_type": "execute_result"
    }
   ],
   "source": [
    "X_train.shape"
   ]
  },
  {
   "cell_type": "code",
   "execution_count": 19,
   "id": "statutory-pattern",
   "metadata": {},
   "outputs": [
    {
     "name": "stdout",
     "output_type": "stream",
     "text": [
      "Epoch: 0\n",
      "\tPredicting [0 0]: 0.0\n",
      "\tAfter activation: 1\n",
      "\tProposed update: -0.01\n",
      "New weights and bias: [0. 0.], -0.01\n",
      "--\n",
      "\n",
      "\tPredicting [0 1]: -0.01\n",
      "\tAfter activation: 0\n",
      "\tProposed update: 0.01\n",
      "New weights and bias: [0.   0.01], 0.0\n",
      "--\n",
      "\n",
      "\tPredicting [1 0]: 0.0\n",
      "\tAfter activation: 1\n",
      "\tProposed update: 0.0\n",
      "New weights and bias: [0.   0.01], 0.0\n",
      "--\n",
      "\n",
      "\tPredicting [1 1]: 0.01\n",
      "\tAfter activation: 1\n",
      "\tProposed update: -0.01\n",
      "New weights and bias: [-0.01  0.  ], -0.01\n",
      "--\n",
      "\n",
      "Weights: [-0.01  0.  ] and -0.01\n",
      "Epoch: 1\n",
      "\tPredicting [0 0]: -0.01\n",
      "\tAfter activation: 0\n",
      "\tProposed update: 0.0\n",
      "New weights and bias: [-0.01  0.  ], -0.01\n",
      "--\n",
      "\n",
      "\tPredicting [0 1]: -0.01\n",
      "\tAfter activation: 0\n",
      "\tProposed update: 0.01\n",
      "New weights and bias: [-0.01  0.01], 0.0\n",
      "--\n",
      "\n",
      "\tPredicting [1 0]: -0.01\n",
      "\tAfter activation: 0\n",
      "\tProposed update: 0.01\n",
      "New weights and bias: [0.   0.01], 0.01\n",
      "--\n",
      "\n",
      "\tPredicting [1 1]: 0.02\n",
      "\tAfter activation: 1\n",
      "\tProposed update: -0.01\n",
      "New weights and bias: [-0.01  0.  ], 0.0\n",
      "--\n",
      "\n",
      "Weights: [-0.01  0.  ] and 0.0\n",
      "Epoch: 2\n",
      "\tPredicting [0 0]: 0.0\n",
      "\tAfter activation: 1\n",
      "\tProposed update: -0.01\n",
      "New weights and bias: [-0.01  0.  ], -0.01\n",
      "--\n",
      "\n",
      "\tPredicting [0 1]: -0.01\n",
      "\tAfter activation: 0\n",
      "\tProposed update: 0.01\n",
      "New weights and bias: [-0.01  0.01], 0.0\n",
      "--\n",
      "\n",
      "\tPredicting [1 0]: -0.01\n",
      "\tAfter activation: 0\n",
      "\tProposed update: 0.01\n",
      "New weights and bias: [0.   0.01], 0.01\n",
      "--\n",
      "\n",
      "\tPredicting [1 1]: 0.02\n",
      "\tAfter activation: 1\n",
      "\tProposed update: -0.01\n",
      "New weights and bias: [-0.01  0.  ], 0.0\n",
      "--\n",
      "\n",
      "Weights: [-0.01  0.  ] and 0.0\n",
      "Epoch: 3\n",
      "\tPredicting [0 0]: 0.0\n",
      "\tAfter activation: 1\n",
      "\tProposed update: -0.01\n",
      "New weights and bias: [-0.01  0.  ], -0.01\n",
      "--\n",
      "\n",
      "\tPredicting [0 1]: -0.01\n",
      "\tAfter activation: 0\n",
      "\tProposed update: 0.01\n",
      "New weights and bias: [-0.01  0.01], 0.0\n",
      "--\n",
      "\n",
      "\tPredicting [1 0]: -0.01\n",
      "\tAfter activation: 0\n",
      "\tProposed update: 0.01\n",
      "New weights and bias: [0.   0.01], 0.01\n",
      "--\n",
      "\n",
      "\tPredicting [1 1]: 0.02\n",
      "\tAfter activation: 1\n",
      "\tProposed update: -0.01\n",
      "New weights and bias: [-0.01  0.  ], 0.0\n",
      "--\n",
      "\n",
      "Weights: [-0.01  0.  ] and 0.0\n",
      "Epoch: 4\n",
      "\tPredicting [0 0]: 0.0\n",
      "\tAfter activation: 1\n",
      "\tProposed update: -0.01\n",
      "New weights and bias: [-0.01  0.  ], -0.01\n",
      "--\n",
      "\n",
      "\tPredicting [0 1]: -0.01\n",
      "\tAfter activation: 0\n",
      "\tProposed update: 0.01\n",
      "New weights and bias: [-0.01  0.01], 0.0\n",
      "--\n",
      "\n",
      "\tPredicting [1 0]: -0.01\n",
      "\tAfter activation: 0\n",
      "\tProposed update: 0.01\n",
      "New weights and bias: [0.   0.01], 0.01\n",
      "--\n",
      "\n",
      "\tPredicting [1 1]: 0.02\n",
      "\tAfter activation: 1\n",
      "\tProposed update: -0.01\n",
      "New weights and bias: [-0.01  0.  ], 0.0\n",
      "--\n",
      "\n",
      "Weights: [-0.01  0.  ] and 0.0\n",
      "Epoch: 5\n",
      "\tPredicting [0 0]: 0.0\n",
      "\tAfter activation: 1\n",
      "\tProposed update: -0.01\n",
      "New weights and bias: [-0.01  0.  ], -0.01\n",
      "--\n",
      "\n",
      "\tPredicting [0 1]: -0.01\n",
      "\tAfter activation: 0\n",
      "\tProposed update: 0.01\n",
      "New weights and bias: [-0.01  0.01], 0.0\n",
      "--\n",
      "\n",
      "\tPredicting [1 0]: -0.01\n",
      "\tAfter activation: 0\n",
      "\tProposed update: 0.01\n",
      "New weights and bias: [0.   0.01], 0.01\n",
      "--\n",
      "\n",
      "\tPredicting [1 1]: 0.02\n",
      "\tAfter activation: 1\n",
      "\tProposed update: -0.01\n",
      "New weights and bias: [-0.01  0.  ], 0.0\n",
      "--\n",
      "\n",
      "Weights: [-0.01  0.  ] and 0.0\n",
      "Epoch: 6\n",
      "\tPredicting [0 0]: 0.0\n",
      "\tAfter activation: 1\n",
      "\tProposed update: -0.01\n",
      "New weights and bias: [-0.01  0.  ], -0.01\n",
      "--\n",
      "\n",
      "\tPredicting [0 1]: -0.01\n",
      "\tAfter activation: 0\n",
      "\tProposed update: 0.01\n",
      "New weights and bias: [-0.01  0.01], 0.0\n",
      "--\n",
      "\n",
      "\tPredicting [1 0]: -0.01\n",
      "\tAfter activation: 0\n",
      "\tProposed update: 0.01\n",
      "New weights and bias: [0.   0.01], 0.01\n",
      "--\n",
      "\n",
      "\tPredicting [1 1]: 0.02\n",
      "\tAfter activation: 1\n",
      "\tProposed update: -0.01\n",
      "New weights and bias: [-0.01  0.  ], 0.0\n",
      "--\n",
      "\n",
      "Weights: [-0.01  0.  ] and 0.0\n",
      "Epoch: 7\n",
      "\tPredicting [0 0]: 0.0\n",
      "\tAfter activation: 1\n",
      "\tProposed update: -0.01\n",
      "New weights and bias: [-0.01  0.  ], -0.01\n",
      "--\n",
      "\n",
      "\tPredicting [0 1]: -0.01\n",
      "\tAfter activation: 0\n",
      "\tProposed update: 0.01\n",
      "New weights and bias: [-0.01  0.01], 0.0\n",
      "--\n",
      "\n",
      "\tPredicting [1 0]: -0.01\n",
      "\tAfter activation: 0\n",
      "\tProposed update: 0.01\n",
      "New weights and bias: [0.   0.01], 0.01\n",
      "--\n",
      "\n",
      "\tPredicting [1 1]: 0.02\n",
      "\tAfter activation: 1\n",
      "\tProposed update: -0.01\n",
      "New weights and bias: [-0.01  0.  ], 0.0\n",
      "--\n",
      "\n",
      "Weights: [-0.01  0.  ] and 0.0\n",
      "Epoch: 8\n",
      "\tPredicting [0 0]: 0.0\n",
      "\tAfter activation: 1\n",
      "\tProposed update: -0.01\n",
      "New weights and bias: [-0.01  0.  ], -0.01\n",
      "--\n",
      "\n",
      "\tPredicting [0 1]: -0.01\n",
      "\tAfter activation: 0\n",
      "\tProposed update: 0.01\n",
      "New weights and bias: [-0.01  0.01], 0.0\n",
      "--\n",
      "\n",
      "\tPredicting [1 0]: -0.01\n",
      "\tAfter activation: 0\n",
      "\tProposed update: 0.01\n",
      "New weights and bias: [0.   0.01], 0.01\n",
      "--\n",
      "\n",
      "\tPredicting [1 1]: 0.02\n",
      "\tAfter activation: 1\n",
      "\tProposed update: -0.01\n",
      "New weights and bias: [-0.01  0.  ], 0.0\n",
      "--\n",
      "\n",
      "Weights: [-0.01  0.  ] and 0.0\n",
      "Epoch: 9\n",
      "\tPredicting [0 0]: 0.0\n",
      "\tAfter activation: 1\n",
      "\tProposed update: -0.01\n",
      "New weights and bias: [-0.01  0.  ], -0.01\n",
      "--\n",
      "\n",
      "\tPredicting [0 1]: -0.01\n",
      "\tAfter activation: 0\n",
      "\tProposed update: 0.01\n",
      "New weights and bias: [-0.01  0.01], 0.0\n",
      "--\n",
      "\n",
      "\tPredicting [1 0]: -0.01\n",
      "\tAfter activation: 0\n",
      "\tProposed update: 0.01\n",
      "New weights and bias: [0.   0.01], 0.01\n",
      "--\n",
      "\n",
      "\tPredicting [1 1]: 0.02\n",
      "\tAfter activation: 1\n",
      "\tProposed update: -0.01\n",
      "New weights and bias: [-0.01  0.  ], 0.0\n",
      "--\n",
      "\n",
      "Weights: [-0.01  0.  ] and 0.0\n"
     ]
    }
   ],
   "source": [
    "p = Perceptron(lr=0.01, n_iter=10)\n",
    "p.fit(X_train, y_train)\n",
    "predictions = p.predict(X_test)"
   ]
  },
  {
   "cell_type": "code",
   "execution_count": 20,
   "id": "thirty-bookmark",
   "metadata": {},
   "outputs": [
    {
     "name": "stdout",
     "output_type": "stream",
     "text": [
      "Perceptron classification accuracy 0.5\n"
     ]
    }
   ],
   "source": [
    "print(\"Perceptron classification accuracy\", accuracy(y_test, predictions))"
   ]
  },
  {
   "cell_type": "code",
   "execution_count": 21,
   "id": "statutory-design",
   "metadata": {},
   "outputs": [
    {
     "name": "stderr",
     "output_type": "stream",
     "text": [
      "/home/aires/anaconda3/lib/python3.7/site-packages/ipykernel_launcher.py:8: RuntimeWarning: invalid value encountered in double_scalars\n",
      "  \n",
      "/home/aires/anaconda3/lib/python3.7/site-packages/ipykernel_launcher.py:9: RuntimeWarning: divide by zero encountered in double_scalars\n",
      "  if __name__ == '__main__':\n"
     ]
    },
    {
     "data": {
      "text/plain": [
       "(-3.0, 4.0)"
      ]
     },
     "execution_count": 21,
     "metadata": {},
     "output_type": "execute_result"
    },
    {
     "data": {
      "image/png": "[encoded data removed]",
      "text/plain": [
       "<Figure size 432x288 with 1 Axes>"
      ]
     },
     "metadata": {
      "needs_background": "light"
     },
     "output_type": "display_data"
    }
   ],
   "source": [
    "fig = plt.figure()\n",
    "ax = fig.add_subplot(1,1,1)\n",
    "plt.scatter(X_train[:,0], X_train[:,1], marker='o', c=y_train)\n",
    "\n",
    "x0_1 = np.amin(X_train[:,0])\n",
    "x0_2 = np.amax(X_train[:,0])\n",
    "\n",
    "x1_1 = (-p.weights[0] * x0_1 - p.bias) / p.weights[1]\n",
    "x1_2 = (-p.weights[0] * x0_2 - p.bias) / p.weights[1]\n",
    "\n",
    "ax.plot([x0_1, x0_2], [x1_1, x1_2], 'k')\n",
    "\n",
    "ymin = np.amin(X_train[:,1])\n",
    "ymax = np.amax(X_train[:,1])\n",
    "ax.set_ylim([ymin-3, ymax+3])"
   ]
  },
  {
   "cell_type": "code",
   "execution_count": null,
   "id": "physical-christmas",
   "metadata": {},
   "outputs": [],
   "source": []
  }
 ],
 "metadata": {
  "kernelspec": {
   "display_name": "Python 3",
   "language": "python",
   "name": "python3"
  },
  "language_info": {
   "codemirror_mode": {
    "name": "ipython",
    "version": 3
   },
   "file_extension": ".py",
   "mimetype": "text/x-python",
   "name": "python",
   "nbconvert_exporter": "python",
   "pygments_lexer": "ipython3",
   "version": "3.7.3"
  }
 },
 "nbformat": 4,
 "nbformat_minor": 5
}
