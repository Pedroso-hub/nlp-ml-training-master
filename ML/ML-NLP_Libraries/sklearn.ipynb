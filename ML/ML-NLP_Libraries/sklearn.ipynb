{
 "cells": [
  {
   "cell_type": "markdown",
   "metadata": {},
   "source": [
    "# Scikit-learn"
   ]
  },
  {
   "cell_type": "markdown",
   "metadata": {},
   "source": [
    "Scikit-learn is a Python library for machine learning modeling. You can train models for multiple problems, such as classification, regression, and clustering. Here, we will cover only part of the vast possibilities provided by Scikit-learn. If you want to know more about scikit, you can follow their [Tutorial](https://scikit-learn.org/stable/tutorial/index.html)."
   ]
  },
  {
   "cell_type": "markdown",
   "metadata": {},
   "source": [
    "<center>\n",
    "    <img src='https://scikit-learn.org/stable/_static/ml_map.png' width=800/>\n",
    "</center>\n",
    "This figure shows how much Scikit-learn can provide in terms of models for training different tasks. It traces a path on how to select the best model depending on your problem. "
   ]
  }
 ],
 "metadata": {
  "interpreter": {
   "hash": "e6ee6738a5cd8f25d55b9380d861dcd2bc5274e1cfab2a9225116b4f08b98073"
  },
  "kernelspec": {
   "display_name": "Python 3.7.3 ('test')",
   "language": "python",
   "name": "python3"
  },
  "language_info": {
   "codemirror_mode": {
    "name": "ipython",
    "version": 3
   },
   "file_extension": ".py",
   "mimetype": "text/x-python",
   "name": "python",
   "nbconvert_exporter": "python",
   "pygments_lexer": "ipython3",
   "version": "3.7.3"
  },
  "orig_nbformat": 4
 },
 "nbformat": 4,
 "nbformat_minor": 2
}
